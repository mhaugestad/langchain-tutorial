{
 "cells": [
  {
   "cell_type": "code",
   "execution_count": 1,
   "metadata": {},
   "outputs": [
    {
     "data": {
      "text/plain": [
       "True"
      ]
     },
     "execution_count": 1,
     "metadata": {},
     "output_type": "execute_result"
    }
   ],
   "source": [
    "import os\n",
    "from sqlalchemy import Column, Integer, String, Float, create_engine\n",
    "from sqlalchemy.ext.declarative import declarative_base\n",
    "from sqlalchemy.orm import sessionmaker\n",
    "import pandas as pd\n",
    "from dotenv import load_dotenv\n",
    "load_dotenv()"
   ]
  },
  {
   "cell_type": "code",
   "execution_count": 2,
   "metadata": {},
   "outputs": [],
   "source": [
    "Base = declarative_base()"
   ]
  },
  {
   "cell_type": "code",
   "execution_count": 3,
   "metadata": {},
   "outputs": [],
   "source": [
    "engine = create_engine(os.environ['SQLALCHEMY_DATABASE_URI'], echo=False)"
   ]
  },
  {
   "cell_type": "code",
   "execution_count": 13,
   "metadata": {},
   "outputs": [
    {
     "ename": "TypeError",
     "evalue": "WineReviews.__init_subclass__() takes no keyword arguments",
     "output_type": "error",
     "traceback": [
      "\u001b[0;31m---------------------------------------------------------------------------\u001b[0m",
      "\u001b[0;31mTypeError\u001b[0m                                 Traceback (most recent call last)",
      "Cell \u001b[0;32mIn[13], line 2\u001b[0m\n\u001b[1;32m      1\u001b[0m \u001b[39m# Define the table model class\u001b[39;00m\n\u001b[0;32m----> 2\u001b[0m \u001b[39mclass\u001b[39;00m \u001b[39mWineReviews\u001b[39;00m(Base, extend_existing\u001b[39m=\u001b[39m\u001b[39mTrue\u001b[39;00m):\n\u001b[1;32m      3\u001b[0m     __tablename__ \u001b[39m=\u001b[39m \u001b[39m'\u001b[39m\u001b[39mWineReviews\u001b[39m\u001b[39m'\u001b[39m\n\u001b[1;32m      4\u001b[0m     winery \u001b[39m=\u001b[39m Column(String(\u001b[39m255\u001b[39m), primary_key\u001b[39m=\u001b[39m\u001b[39mTrue\u001b[39;00m, nullable\u001b[39m=\u001b[39m\u001b[39mFalse\u001b[39;00m)\n",
      "\u001b[0;31mTypeError\u001b[0m: WineReviews.__init_subclass__() takes no keyword arguments"
     ]
    }
   ],
   "source": [
    "# Define the table model class\n",
    "class WineReviews(Base):\n",
    "    __tablename__ = 'WineReviews'\n",
    "    winery = Column(String(255), primary_key=True, nullable=False)\n",
    "    wine = Column(String(255), primary_key=True, nullable=False)\n",
    "    year = Column(Integer, primary_key=True, nullable=False)\n",
    "    rating = Column(Float, nullable=False)\n",
    "    num_reviews = Column(Integer, nullable=False)\n",
    "    country = Column(String(255), nullable=False)\n",
    "    region = Column(String(255), nullable=False)\n",
    "    price = Column(Float, nullable=False)\n",
    "    type = Column(String(255), primary_key=True, nullable=False)\n",
    "    body = Column(Integer, nullable=False)\n",
    "    acidity = Column(Integer, nullable=False)\n",
    "\n",
    "    def __str__(self):\n",
    "        return f'<WineReviews(winery={self.winery}, wine={self.wine}, year={self.year}, price={self.price}, type={self.type}>'"
   ]
  },
  {
   "cell_type": "code",
   "execution_count": 5,
   "metadata": {},
   "outputs": [],
   "source": [
    "# Create all the tables defined in the models\n",
    "Base.metadata.create_all(engine)"
   ]
  },
  {
   "cell_type": "code",
   "execution_count": 6,
   "metadata": {},
   "outputs": [
    {
     "data": {
      "text/html": [
       "<div>\n",
       "<style scoped>\n",
       "    .dataframe tbody tr th:only-of-type {\n",
       "        vertical-align: middle;\n",
       "    }\n",
       "\n",
       "    .dataframe tbody tr th {\n",
       "        vertical-align: top;\n",
       "    }\n",
       "\n",
       "    .dataframe thead th {\n",
       "        text-align: right;\n",
       "    }\n",
       "</style>\n",
       "<table border=\"1\" class=\"dataframe\">\n",
       "  <thead>\n",
       "    <tr style=\"text-align: right;\">\n",
       "      <th></th>\n",
       "      <th>winery</th>\n",
       "      <th>wine</th>\n",
       "      <th>year</th>\n",
       "      <th>rating</th>\n",
       "      <th>num_reviews</th>\n",
       "      <th>country</th>\n",
       "      <th>region</th>\n",
       "      <th>price</th>\n",
       "      <th>type</th>\n",
       "      <th>body</th>\n",
       "      <th>acidity</th>\n",
       "    </tr>\n",
       "  </thead>\n",
       "  <tbody>\n",
       "    <tr>\n",
       "      <th>0</th>\n",
       "      <td>Teso La Monja</td>\n",
       "      <td>Tinto</td>\n",
       "      <td>2013</td>\n",
       "      <td>4.9</td>\n",
       "      <td>58</td>\n",
       "      <td>Espana</td>\n",
       "      <td>Toro</td>\n",
       "      <td>995.00</td>\n",
       "      <td>Toro Red</td>\n",
       "      <td>5.0</td>\n",
       "      <td>3.0</td>\n",
       "    </tr>\n",
       "    <tr>\n",
       "      <th>1</th>\n",
       "      <td>Artadi</td>\n",
       "      <td>Vina El Pison</td>\n",
       "      <td>2018</td>\n",
       "      <td>4.9</td>\n",
       "      <td>31</td>\n",
       "      <td>Espana</td>\n",
       "      <td>Vino de Espana</td>\n",
       "      <td>313.50</td>\n",
       "      <td>Tempranillo</td>\n",
       "      <td>4.0</td>\n",
       "      <td>2.0</td>\n",
       "    </tr>\n",
       "    <tr>\n",
       "      <th>2</th>\n",
       "      <td>Vega Sicilia</td>\n",
       "      <td>Unico</td>\n",
       "      <td>2009</td>\n",
       "      <td>4.8</td>\n",
       "      <td>1793</td>\n",
       "      <td>Espana</td>\n",
       "      <td>Ribera del Duero</td>\n",
       "      <td>324.95</td>\n",
       "      <td>Ribera Del Duero Red</td>\n",
       "      <td>5.0</td>\n",
       "      <td>3.0</td>\n",
       "    </tr>\n",
       "    <tr>\n",
       "      <th>3</th>\n",
       "      <td>Vega Sicilia</td>\n",
       "      <td>Unico</td>\n",
       "      <td>1999</td>\n",
       "      <td>4.8</td>\n",
       "      <td>1705</td>\n",
       "      <td>Espana</td>\n",
       "      <td>Ribera del Duero</td>\n",
       "      <td>692.96</td>\n",
       "      <td>Ribera Del Duero Red</td>\n",
       "      <td>5.0</td>\n",
       "      <td>3.0</td>\n",
       "    </tr>\n",
       "    <tr>\n",
       "      <th>4</th>\n",
       "      <td>Vega Sicilia</td>\n",
       "      <td>Unico</td>\n",
       "      <td>1996</td>\n",
       "      <td>4.8</td>\n",
       "      <td>1309</td>\n",
       "      <td>Espana</td>\n",
       "      <td>Ribera del Duero</td>\n",
       "      <td>778.06</td>\n",
       "      <td>Ribera Del Duero Red</td>\n",
       "      <td>5.0</td>\n",
       "      <td>3.0</td>\n",
       "    </tr>\n",
       "    <tr>\n",
       "      <th>...</th>\n",
       "      <td>...</td>\n",
       "      <td>...</td>\n",
       "      <td>...</td>\n",
       "      <td>...</td>\n",
       "      <td>...</td>\n",
       "      <td>...</td>\n",
       "      <td>...</td>\n",
       "      <td>...</td>\n",
       "      <td>...</td>\n",
       "      <td>...</td>\n",
       "      <td>...</td>\n",
       "    </tr>\n",
       "    <tr>\n",
       "      <th>7495</th>\n",
       "      <td>Contino</td>\n",
       "      <td>Reserva</td>\n",
       "      <td>2016</td>\n",
       "      <td>4.2</td>\n",
       "      <td>392</td>\n",
       "      <td>Espana</td>\n",
       "      <td>Rioja</td>\n",
       "      <td>19.98</td>\n",
       "      <td>Rioja Red</td>\n",
       "      <td>4.0</td>\n",
       "      <td>3.0</td>\n",
       "    </tr>\n",
       "    <tr>\n",
       "      <th>7496</th>\n",
       "      <td>Conreria d'Scala Dei</td>\n",
       "      <td>Les Brugueres</td>\n",
       "      <td>2018</td>\n",
       "      <td>4.2</td>\n",
       "      <td>390</td>\n",
       "      <td>Espana</td>\n",
       "      <td>Priorato</td>\n",
       "      <td>16.76</td>\n",
       "      <td>Priorat Red</td>\n",
       "      <td>4.0</td>\n",
       "      <td>3.0</td>\n",
       "    </tr>\n",
       "    <tr>\n",
       "      <th>7497</th>\n",
       "      <td>Mustiguillo</td>\n",
       "      <td>Finca Terrerazo</td>\n",
       "      <td>2017</td>\n",
       "      <td>4.2</td>\n",
       "      <td>390</td>\n",
       "      <td>Espana</td>\n",
       "      <td>El Terrerazo</td>\n",
       "      <td>24.45</td>\n",
       "      <td>Red</td>\n",
       "      <td>4.0</td>\n",
       "      <td>3.0</td>\n",
       "    </tr>\n",
       "    <tr>\n",
       "      <th>7498</th>\n",
       "      <td>Matarromera</td>\n",
       "      <td>Gran Reserva</td>\n",
       "      <td>2011</td>\n",
       "      <td>4.2</td>\n",
       "      <td>389</td>\n",
       "      <td>Espana</td>\n",
       "      <td>Ribera del Duero</td>\n",
       "      <td>64.50</td>\n",
       "      <td>Ribera Del Duero Red</td>\n",
       "      <td>5.0</td>\n",
       "      <td>3.0</td>\n",
       "    </tr>\n",
       "    <tr>\n",
       "      <th>7499</th>\n",
       "      <td>Sei Solo</td>\n",
       "      <td>Preludio</td>\n",
       "      <td>2016</td>\n",
       "      <td>4.2</td>\n",
       "      <td>388</td>\n",
       "      <td>Espana</td>\n",
       "      <td>Ribera del Duero</td>\n",
       "      <td>31.63</td>\n",
       "      <td>Ribera Del Duero Red</td>\n",
       "      <td>5.0</td>\n",
       "      <td>3.0</td>\n",
       "    </tr>\n",
       "  </tbody>\n",
       "</table>\n",
       "<p>7500 rows × 11 columns</p>\n",
       "</div>"
      ],
      "text/plain": [
       "                    winery             wine  year  rating  num_reviews  \\\n",
       "0            Teso La Monja            Tinto  2013     4.9           58   \n",
       "1                   Artadi    Vina El Pison  2018     4.9           31   \n",
       "2             Vega Sicilia            Unico  2009     4.8         1793   \n",
       "3             Vega Sicilia            Unico  1999     4.8         1705   \n",
       "4             Vega Sicilia            Unico  1996     4.8         1309   \n",
       "...                    ...              ...   ...     ...          ...   \n",
       "7495               Contino          Reserva  2016     4.2          392   \n",
       "7496  Conreria d'Scala Dei    Les Brugueres  2018     4.2          390   \n",
       "7497           Mustiguillo  Finca Terrerazo  2017     4.2          390   \n",
       "7498           Matarromera     Gran Reserva  2011     4.2          389   \n",
       "7499              Sei Solo         Preludio  2016     4.2          388   \n",
       "\n",
       "     country            region   price                  type  body  acidity  \n",
       "0     Espana              Toro  995.00              Toro Red   5.0      3.0  \n",
       "1     Espana    Vino de Espana  313.50           Tempranillo   4.0      2.0  \n",
       "2     Espana  Ribera del Duero  324.95  Ribera Del Duero Red   5.0      3.0  \n",
       "3     Espana  Ribera del Duero  692.96  Ribera Del Duero Red   5.0      3.0  \n",
       "4     Espana  Ribera del Duero  778.06  Ribera Del Duero Red   5.0      3.0  \n",
       "...      ...               ...     ...                   ...   ...      ...  \n",
       "7495  Espana             Rioja   19.98             Rioja Red   4.0      3.0  \n",
       "7496  Espana          Priorato   16.76           Priorat Red   4.0      3.0  \n",
       "7497  Espana      El Terrerazo   24.45                   Red   4.0      3.0  \n",
       "7498  Espana  Ribera del Duero   64.50  Ribera Del Duero Red   5.0      3.0  \n",
       "7499  Espana  Ribera del Duero   31.63  Ribera Del Duero Red   5.0      3.0  \n",
       "\n",
       "[7500 rows x 11 columns]"
      ]
     },
     "execution_count": 6,
     "metadata": {},
     "output_type": "execute_result"
    }
   ],
   "source": [
    "df = pd.read_csv('../data/wines_SPA.csv')\n",
    "df"
   ]
  },
  {
   "cell_type": "code",
   "execution_count": null,
   "metadata": {},
   "outputs": [],
   "source": []
  },
  {
   "cell_type": "code",
   "execution_count": 8,
   "metadata": {},
   "outputs": [],
   "source": [
    "df = df.drop_duplicates(subset=['winery', 'wine', 'year', 'type'])"
   ]
  },
  {
   "cell_type": "code",
   "execution_count": 9,
   "metadata": {},
   "outputs": [
    {
     "data": {
      "text/plain": [
       "2024"
      ]
     },
     "execution_count": 9,
     "metadata": {},
     "output_type": "execute_result"
    }
   ],
   "source": [
    "df.to_sql('WineReviews', con=engine, if_exists='replace', index=False)"
   ]
  },
  {
   "cell_type": "code",
   "execution_count": 22,
   "metadata": {},
   "outputs": [
    {
     "name": "stdout",
     "output_type": "stream",
     "text": [
      "[{'winery': 'Teso La Monja', 'wine': 'Tinto', 'year': '2013', 'rating': 4.9, 'num_reviews': 58, 'country': 'Espana', 'region': 'Toro', 'price': 995.0, 'type': 'Toro Red', 'body': 5.0, 'acidity': 3.0}, {'winery': 'Artadi', 'wine': 'Vina El Pison', 'year': '2018', 'rating': 4.9, 'num_reviews': 31, 'country': 'Espana', 'region': 'Vino de Espana', 'price': 313.5, 'type': 'Tempranillo', 'body': 4.0, 'acidity': 2.0}, {'winery': 'Vega Sicilia', 'wine': 'Unico', 'year': '2009', 'rating': 4.8, 'num_reviews': 1793, 'country': 'Espana', 'region': 'Ribera del Duero', 'price': 324.95, 'type': 'Ribera Del Duero Red', 'body': 5.0, 'acidity': 3.0}, {'winery': 'Vega Sicilia', 'wine': 'Unico', 'year': '1999', 'rating': 4.8, 'num_reviews': 1705, 'country': 'Espana', 'region': 'Ribera del Duero', 'price': 692.96, 'type': 'Ribera Del Duero Red', 'body': 5.0, 'acidity': 3.0}, {'winery': 'Vega Sicilia', 'wine': 'Unico', 'year': '1996', 'rating': 4.8, 'num_reviews': 1309, 'country': 'Espana', 'region': 'Ribera del Duero', 'price': 778.06, 'type': 'Ribera Del Duero Red', 'body': 5.0, 'acidity': 3.0}, {'winery': 'Vega Sicilia', 'wine': 'Unico', 'year': '1998', 'rating': 4.8, 'num_reviews': 1209, 'country': 'Espana', 'region': 'Ribera del Duero', 'price': 490.0, 'type': 'Ribera Del Duero Red', 'body': 5.0, 'acidity': 3.0}, {'winery': 'Vega Sicilia', 'wine': 'Unico', 'year': '2010', 'rating': 4.8, 'num_reviews': 1201, 'country': 'Espana', 'region': 'Ribera del Duero', 'price': 349.0, 'type': 'Ribera Del Duero Red', 'body': 5.0, 'acidity': 3.0}, {'winery': 'Vega Sicilia', 'wine': 'Unico', 'year': '1995', 'rating': 4.8, 'num_reviews': 926, 'country': 'Espana', 'region': 'Ribera del Duero', 'price': 810.89, 'type': 'Ribera Del Duero Red', 'body': 5.0, 'acidity': 3.0}, {'winery': 'Vega Sicilia', 'wine': 'Unico Reserva Especial Edicion', 'year': '2015', 'rating': 4.8, 'num_reviews': 643, 'country': 'Espana', 'region': 'Ribera del Duero', 'price': 345.0, 'type': 'Ribera Del Duero Red', 'body': 5.0, 'acidity': 3.0}, {'winery': 'Vega Sicilia', 'wine': 'Unico', 'year': '2011', 'rating': 4.8, 'num_reviews': 630, 'country': 'Espana', 'region': 'Ribera del Duero', 'price': 315.0, 'type': 'Ribera Del Duero Red', 'body': 5.0, 'acidity': 3.0}]\n"
     ]
    }
   ],
   "source": [
    "# Create a session to interact with the database\n",
    "Session = sessionmaker(bind=engine)\n",
    "with Session() as session:\n",
    "    data = session.execute(\"SELECT TOP(10) * FROM WineReviews\")\n",
    "    columns = data.keys()\n",
    "    data = data.fetchall()\n",
    "    print([dict(zip(columns, row)) for row in data])"
   ]
  }
 ],
 "metadata": {
  "kernelspec": {
   "display_name": "Python 3",
   "language": "python",
   "name": "python3"
  },
  "language_info": {
   "codemirror_mode": {
    "name": "ipython",
    "version": 3
   },
   "file_extension": ".py",
   "mimetype": "text/x-python",
   "name": "python",
   "nbconvert_exporter": "python",
   "pygments_lexer": "ipython3",
   "version": "3.10.8"
  },
  "orig_nbformat": 4
 },
 "nbformat": 4,
 "nbformat_minor": 2
}
